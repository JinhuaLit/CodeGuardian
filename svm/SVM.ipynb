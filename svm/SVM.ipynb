{
 "cells": [
  {
   "cell_type": "markdown",
   "metadata": {},
   "source": [
    "# SVM-4 Categories"
   ]
  },
  {
   "cell_type": "markdown",
   "metadata": {},
   "source": []
  },
  {
   "cell_type": "code",
   "execution_count": 1,
   "metadata": {},
   "outputs": [],
   "source": [
    "import pandas as pd\n",
    "import numpy as np\n",
    "from sklearn.model_selection import train_test_split, GridSearchCV\n",
    "from sklearn.preprocessing import StandardScaler\n",
    "from sklearn import svm\n",
    "from sklearn.metrics import classification_report"
   ]
  },
  {
   "cell_type": "code",
   "execution_count": 13,
   "metadata": {},
   "outputs": [],
   "source": [
    "ai_data = pd.read_csv('../data/AI_generated/AI_written_10000.csv')\n",
    "human_data = pd.read_csv('../data/Real_Code/code_data.csv')"
   ]
  },
  {
   "cell_type": "code",
   "execution_count": 15,
   "metadata": {},
   "outputs": [],
   "source": [
    "ai_data['source'] = 'AI'\n",
    "human_data['source'] = 'Human'\n",
    "data = pd.concat([\n",
    "    ai_data[['Number of Lines', 'Code', 'source']],\n",
    "    human_data[['Number of Lines', 'Code', 'source']].rename(columns={'code': 'source code'})\n",
    "])"
   ]
  },
  {
   "cell_type": "code",
   "execution_count": 16,
   "metadata": {},
   "outputs": [],
   "source": [
    "bins = [0, 70, 300, 700, float('inf')]\n",
    "labels = ['0-70', '70-300', '300-700', '>700']\n",
    "data['category'] = pd.cut(data['Number of Lines'], bins=bins, labels=labels, right=False)\n"
   ]
  },
  {
   "cell_type": "code",
   "execution_count": 17,
   "metadata": {},
   "outputs": [],
   "source": [
    "data['code_length'] = data['Code'].apply(len)"
   ]
  },
  {
   "cell_type": "code",
   "execution_count": 19,
   "metadata": {},
   "outputs": [
    {
     "name": "stdout",
     "output_type": "stream",
     "text": [
      "Category >700 does not have enough class representation.\n"
     ]
    },
    {
     "name": "stderr",
     "output_type": "stream",
     "text": [
      "/Users/swagyangjh/anaconda3/lib/python3.11/site-packages/sklearn/metrics/_classification.py:1469: UndefinedMetricWarning: Precision and F-score are ill-defined and being set to 0.0 in labels with no predicted samples. Use `zero_division` parameter to control this behavior.\n",
      "  _warn_prf(average, modifier, msg_start, len(result))\n",
      "/Users/swagyangjh/anaconda3/lib/python3.11/site-packages/sklearn/metrics/_classification.py:1469: UndefinedMetricWarning: Precision and F-score are ill-defined and being set to 0.0 in labels with no predicted samples. Use `zero_division` parameter to control this behavior.\n",
      "  _warn_prf(average, modifier, msg_start, len(result))\n",
      "/Users/swagyangjh/anaconda3/lib/python3.11/site-packages/sklearn/metrics/_classification.py:1469: UndefinedMetricWarning: Precision and F-score are ill-defined and being set to 0.0 in labels with no predicted samples. Use `zero_division` parameter to control this behavior.\n",
      "  _warn_prf(average, modifier, msg_start, len(result))\n"
     ]
    }
   ],
   "source": [
    "results = []\n",
    "for category in labels:\n",
    "    subset = data[data['category'] == category]\n",
    "    X = subset[['code_length']]  \n",
    "    y = (subset['source'] == 'AI').astype(int)  \n",
    "\n",
    "    if len(y.unique()) > 1:\n",
    "        \n",
    "        X_train, X_test, y_train, y_test = train_test_split(X, y, test_size=0.2, random_state=42, stratify=y)\n",
    "\n",
    "        scaler = StandardScaler()\n",
    "        X_train_scaled = scaler.fit_transform(X_train)\n",
    "        X_test_scaled = scaler.transform(X_test)\n",
    "\n",
    "    \n",
    "        model = svm.SVC(kernel='rbf', C=1.0, gamma='scale')\n",
    "        model.fit(X_train_scaled, y_train)\n",
    "\n",
    "    \n",
    "        predictions = model.predict(X_test_scaled)\n",
    "        report = classification_report(y_test, predictions, output_dict=True)\n",
    "        results.append((category, report['accuracy'], report['macro avg']['f1-score']))\n",
    "    else:\n",
    "        results.append((category, None, None))\n",
    "        print(f\"Category {category} does not have enough class representation.\")"
   ]
  },
  {
   "cell_type": "code",
   "execution_count": 20,
   "metadata": {},
   "outputs": [
    {
     "name": "stdout",
     "output_type": "stream",
     "text": [
      "Category: 0-70, Accuracy: 0.68, F1-Score: 0.67\n",
      "Category: 70-300, Accuracy: 0.71, F1-Score: 0.67\n",
      "Category: 300-700, Accuracy: 0.96, F1-Score: 0.49\n",
      "Category: >700 lacks sufficient data for training.\n"
     ]
    }
   ],
   "source": [
    "for result in results:\n",
    "    if result[1] is not None:\n",
    "        print(f\"Category: {result[0]}, Accuracy: {result[1]:.2f}, F1-Score: {result[2]:.2f}\")\n",
    "    else:\n",
    "        print(f\"Category: {result[0]} lacks sufficient data for training.\")"
   ]
  },
  {
   "cell_type": "code",
   "execution_count": 21,
   "metadata": {},
   "outputs": [
    {
     "data": {
      "image/png": "[encoded data removed]",
      "text/plain": [
       "<Figure size 1200x600 with 1 Axes>"
      ]
     },
     "metadata": {},
     "output_type": "display_data"
    }
   ],
   "source": [
    "import matplotlib.pyplot as plt\n",
    "\n",
    "filtered_results = [result for result in results if result[1] is not None]\n",
    "\n",
    "# category\n",
    "categories = [result[0] for result in filtered_results]\n",
    "# accuracy\n",
    "accuracies = [result[1] for result in filtered_results]\n",
    "# F1 score\n",
    "f1_scores = [result[2] for result in filtered_results]\n",
    "\n",
    "plt.figure(figsize=(12, 6))\n",
    "x = range(len(categories))  \n",
    "width = 0.35  \n",
    "\n",
    "plt.bar(x, accuracies, width, label='Accuracy')\n",
    "plt.bar([p + width for p in x], f1_scores, width, label='F1-Score')\n",
    "\n",
    "plt.xlabel('Category')\n",
    "plt.ylabel('Score')\n",
    "plt.title('Performance of SVM Models by Code Line Categories')\n",
    "plt.xticks([p + width / 2 for p in x], categories)  \n",
    "\n",
    "plt.legend()\n",
    "\n",
    "plt.show()\n"
   ]
  },
  {
   "cell_type": "code",
   "execution_count": 26,
   "metadata": {},
   "outputs": [
    {
     "name": "stderr",
     "output_type": "stream",
     "text": [
      "/Users/swagyangjh/anaconda3/lib/python3.11/site-packages/sklearn/metrics/_classification.py:1469: UndefinedMetricWarning: Precision and F-score are ill-defined and being set to 0.0 in labels with no predicted samples. Use `zero_division` parameter to control this behavior.\n",
      "  _warn_prf(average, modifier, msg_start, len(result))\n",
      "/Users/swagyangjh/anaconda3/lib/python3.11/site-packages/sklearn/metrics/_classification.py:1469: UndefinedMetricWarning: Precision and F-score are ill-defined and being set to 0.0 in labels with no predicted samples. Use `zero_division` parameter to control this behavior.\n",
      "  _warn_prf(average, modifier, msg_start, len(result))\n",
      "/Users/swagyangjh/anaconda3/lib/python3.11/site-packages/sklearn/metrics/_classification.py:1469: UndefinedMetricWarning: Precision and F-score are ill-defined and being set to 0.0 in labels with no predicted samples. Use `zero_division` parameter to control this behavior.\n",
      "  _warn_prf(average, modifier, msg_start, len(result))\n"
     ]
    }
   ],
   "source": [
    "results = []\n",
    "for category in labels:\n",
    "    subset = data[data['category'] == category]\n",
    "    X = subset[['code_length']]  \n",
    "    y = (subset['source'] == 'AI').astype(int)  \n",
    "\n",
    "\n",
    "    if len(y.unique()) > 1:\n",
    "\n",
    "        X_train, X_test, y_train, y_test = train_test_split(X, y, test_size=0.2, random_state=42, stratify=y)\n",
    "\n",
    "\n",
    "        scaler = StandardScaler()\n",
    "        X_train_scaled = scaler.fit_transform(X_train)\n",
    "        X_test_scaled = scaler.transform(X_test)\n",
    "\n",
    "\n",
    "        model = svm.SVC(kernel='rbf', C=1.0, gamma='scale', probability=True)\n",
    "        model.fit(X_train_scaled, y_train)\n",
    "\n",
    "\n",
    "        predictions = model.predict(X_test_scaled)\n",
    "        probas = model.predict_proba(X_test_scaled)[:, 1]  \n",
    "        auc_score = roc_auc_score(y_test, probas)\n",
    "        report = classification_report(y_test, predictions, output_dict=True)\n",
    "        results.append((category, report['accuracy'], report['macro avg']['f1-score'], auc_score))\n",
    "    else:\n",
    "        results.append((category, None, None, None))  \n"
   ]
  },
  {
   "cell_type": "code",
   "execution_count": 29,
   "metadata": {},
   "outputs": [
    {
     "name": "stdout",
     "output_type": "stream",
     "text": [
      "Categories:\n",
      "['0-70', '70-300', '300-700']\n",
      "\n",
      "Accuracies:\n",
      "[0.6833885470894463, 0.7147258163894024, 0.9622641509433962]\n",
      "\n",
      "F1 Scores:\n",
      "[0.6698425933386818, 0.6706039075208665, 0.49038461538461536]\n",
      "\n",
      "AUC Scores:\n",
      "[0.7366191124811814, 0.7172898001648318, 0.6612200435729847]\n"
     ]
    }
   ],
   "source": [
    "categories = [result[0] for result in filtered_results]\n",
    "accuracies = [result[1] for result in filtered_results]\n",
    "f1_scores = [result[2] for result in filtered_results]\n",
    "auc_scores = [result[3] for result in filtered_results]\n",
    "print(\"Categories:\")\n",
    "print(categories)\n",
    "\n",
    "\n",
    "print(\"\\nAccuracies:\")\n",
    "print(accuracies)\n",
    "\n",
    "\n",
    "print(\"\\nF1 Scores:\")\n",
    "print(f1_scores)\n",
    "\n",
    "\n",
    "print(\"\\nAUC Scores:\")\n",
    "print(auc_scores)"
   ]
  },
  {
   "cell_type": "code",
   "execution_count": 30,
   "metadata": {},
   "outputs": [
    {
     "data": {
      "image/png": "[encoded data removed]",
      "text/plain": [
       "<Figure size 1200x600 with 1 Axes>"
      ]
     },
     "metadata": {},
     "output_type": "display_data"
    }
   ],
   "source": [
    "plt.figure(figsize=(12, 6))\n",
    "width = 0.25  \n",
    "x = range(len(categories)) \n",
    "plt.bar(x, accuracies, width, label='Accuracy')\n",
    "plt.bar([p + width for p in x], f1_scores, width, label='F1-Score')\n",
    "plt.bar([p + 2*width for p in x], auc_scores, width, label='AUC')\n",
    "\n",
    "plt.xlabel('Category')\n",
    "plt.ylabel('Score')\n",
    "plt.title('Performance of SVM Models by Code Line Categories')\n",
    "plt.xticks([p + width for p in x], categories)\n",
    "plt.legend()\n",
    "\n",
    "\n",
    "plt.show()"
   ]
  },
  {
   "cell_type": "code",
   "execution_count": 31,
   "metadata": {},
   "outputs": [
    {
     "name": "stdout",
     "output_type": "stream",
     "text": [
      "SVM Model Hyperparameters:\n",
      "{'C': 1.0, 'break_ties': False, 'cache_size': 200, 'class_weight': None, 'coef0': 0.0, 'decision_function_shape': 'ovr', 'degree': 3, 'gamma': 'scale', 'kernel': 'rbf', 'max_iter': -1, 'probability': True, 'random_state': None, 'shrinking': True, 'tol': 0.001, 'verbose': False}\n"
     ]
    }
   ],
   "source": [
    "hyperparameters = model.get_params()\n",
    "print(\"SVM Model Hyperparameters:\")\n",
    "print(hyperparameters)"
   ]
  },
  {
   "cell_type": "code",
   "execution_count": 32,
   "metadata": {},
   "outputs": [],
   "source": [
    "from sklearn import svm\n",
    "from pprint import pprint"
   ]
  },
  {
   "cell_type": "code",
   "execution_count": 33,
   "metadata": {},
   "outputs": [
    {
     "name": "stdout",
     "output_type": "stream",
     "text": [
      "SVM Model Hyperparameters:\n",
      "{'C': 1.0,\n",
      " 'break_ties': False,\n",
      " 'cache_size': 200,\n",
      " 'class_weight': None,\n",
      " 'coef0': 0.0,\n",
      " 'decision_function_shape': 'ovr',\n",
      " 'degree': 3,\n",
      " 'gamma': 'scale',\n",
      " 'kernel': 'rbf',\n",
      " 'max_iter': -1,\n",
      " 'probability': True,\n",
      " 'random_state': None,\n",
      " 'shrinking': True,\n",
      " 'tol': 0.001,\n",
      " 'verbose': False}\n"
     ]
    }
   ],
   "source": [
    "print(\"SVM Model Hyperparameters:\")\n",
    "pprint(model.get_params())"
   ]
  },
  {
   "cell_type": "code",
   "execution_count": null,
   "metadata": {},
   "outputs": [],
   "source": []
  }
 ],
 "metadata": {
  "kernelspec": {
   "display_name": "Python 3",
   "language": "python",
   "name": "python3"
  },
  "language_info": {
   "codemirror_mode": {
    "name": "ipython",
    "version": 3
   },
   "file_extension": ".py",
   "mimetype": "text/x-python",
   "name": "python",
   "nbconvert_exporter": "python",
   "pygments_lexer": "ipython3",
   "version": "3.11.5"
  }
 },
 "nbformat": 4,
 "nbformat_minor": 2
}
