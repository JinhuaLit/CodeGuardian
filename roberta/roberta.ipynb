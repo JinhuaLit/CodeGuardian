{
 "cells": [
  {
   "cell_type": "code",
   "execution_count": null,
   "id": "201fc2c2-7653-4840-99c6-22738073b1a8",
   "metadata": {},
   "outputs": [],
   "source": [
    "!pip install transformers datasets huggingface_hub tensorboard==2.11"
   ]
  },
  {
   "cell_type": "code",
   "execution_count": null,
   "id": "a18201bc-2ab9-4ceb-83fd-0cc3d3eba230",
   "metadata": {},
   "outputs": [],
   "source": [
    "!pip install git-lfs --yes"
   ]
  },
  {
   "cell_type": "code",
   "execution_count": null,
   "id": "06ed0fc0-6b1f-478d-b4c6-67c9f05e4d50",
   "metadata": {
    "scrolled": true
   },
   "outputs": [],
   "source": [
    "!pip install torchvision "
   ]
  },
  {
   "cell_type": "code",
   "execution_count": null,
   "id": "503ae740-8315-4ef1-b625-0dac16733a9c",
   "metadata": {},
   "outputs": [],
   "source": [
    "import torch\n",
    "from datasets import load_dataset\n",
    "from transformers import (\n",
    "    RobertaTokenizerFast,\n",
    "    RobertaForSequenceClassification,\n",
    "    TrainingArguments,\n",
    "    Trainer,\n",
    "    AutoConfig,\n",
    ")\n",
    "from huggingface_hub import HfFolder, notebook_login"
   ]
  },
  {
   "cell_type": "code",
   "execution_count": null,
   "id": "3d7aec22-2464-40f7-8529-3ae8663a5855",
   "metadata": {},
   "outputs": [],
   "source": [
    "import pandas as pd\n",
    "from sklearn.model_selection import train_test_split"
   ]
  },
  {
   "cell_type": "code",
   "execution_count": null,
   "id": "dce1a2e3-8ea4-4dde-a52b-729feb2cebf7",
   "metadata": {},
   "outputs": [],
   "source": [
    "# Read in the data\n",
    "human_data = pd.read_csv(\"../data/human/human_data.csv\")\n",
    "ai_data = pd.read_csv(\"../data/ai/ai_data.csv\")"
   ]
  },
  {
   "cell_type": "code",
   "execution_count": null,
   "id": "c8390049-f35f-4c25-8baf-7f7159348fdf",
   "metadata": {},
   "outputs": [],
   "source": [
    "# concatenate the data\n",
    "data = pd.concat([human_data, ai_data], ignore_index=True)"
   ]
  },
  {
   "cell_type": "code",
   "execution_count": null,
   "id": "3f37ecdd-bdb2-4ab3-96f9-c703b2d4a12c",
   "metadata": {},
   "outputs": [],
   "source": [
    "train_data, remaining_data = train_test_split(data, train_size=0.8, random_state=42)\n",
    "\n",
    "validation_data, test_data = train_test_split(remaining_data, train_size=0.5, random_state=42)\n",
    "\n",
    "# Let's check the sizes of each set\n",
    "len(train_data), len(validation_data), len(test_data)"
   ]
  },
  {
   "cell_type": "code",
   "execution_count": null,
   "id": "98f67621-27e4-4734-b5c2-8019c16b2586",
   "metadata": {},
   "outputs": [],
   "source": [
    "train_texts, val_texts, test_texts = train_data['Code'], validation_data['Code'], test_data['Code']\n",
    "train_labels, val_labels, test_labels = train_data['Label'], validation_data['Label'], test_data['Label']"
   ]
  },
  {
   "cell_type": "code",
   "execution_count": null,
   "id": "3c32e767-ee20-4b74-90cc-7ed9bd4739a6",
   "metadata": {},
   "outputs": [],
   "source": [
    "tokenizer = RobertaTokenizerFast.from_pretrained(\"roberta-base\")\n",
    "\n",
    "train_texts_list = train_texts.tolist()\n",
    "val_texts_list = val_texts.tolist()\n",
    "test_texts_list = test_texts.tolist()\n",
    "\n",
    "train_encodings = tokenizer(train_texts_list, truncation=True, padding=True)\n",
    "val_encodings = tokenizer(val_texts_list, truncation=True, padding=True)\n",
    "test_encodings = tokenizer(test_texts_list, truncation=True, padding=True)"
   ]
  },
  {
   "cell_type": "code",
   "execution_count": null,
   "id": "89fedf53-14a2-4e7f-b7cc-2173bc0531a4",
   "metadata": {},
   "outputs": [],
   "source": [
    "from sklearn.preprocessing import LabelEncoder\n",
    "\n",
    "class CodeDataset(torch.utils.data.Dataset):\n",
    "    def __init__(self, encodings, labels):\n",
    "        self.encodings = encodings\n",
    "        self.labels = labels\n",
    "\n",
    "    def __getitem__(self, idx):\n",
    "        item = {key: torch.tensor(val[idx]) for key, val in self.encodings.items()}\n",
    "        item['labels'] = torch.tensor(self.labels[idx])\n",
    "        return item\n",
    "\n",
    "    def __len__(self):\n",
    "        return len(self.labels)"
   ]
  },
  {
   "cell_type": "code",
   "execution_count": null,
   "id": "6a333678-4c0e-432c-94b2-d112bdda026c",
   "metadata": {},
   "outputs": [],
   "source": [
    "label_encoder = LabelEncoder()\n",
    "train_labels_encoded = label_encoder.fit_transform(train_labels)\n",
    "val_labels_encoded = label_encoder.transform(val_labels)\n",
    "test_labels_encoded = label_encoder.transform(test_labels)\n",
    "\n",
    "# Create the CodeDataset instances with the encoded labels\n",
    "train_dataset = CodeDataset(train_encodings, train_labels_encoded)\n",
    "val_dataset = CodeDataset(val_encodings, val_labels_encoded)\n",
    "test_dataset = CodeDataset(test_encodings, test_labels_encoded)\n",
    "\n",
    "# Create the data loaders with a corrected batch size\n",
    "train_loader = torch.utils.data.DataLoader(train_dataset, batch_size=16, shuffle=True)\n",
    "val_loader = torch.utils.data.DataLoader(val_dataset, batch_size=16, shuffle=False)\n",
    "test_loader = torch.utils.data.DataLoader(test_dataset, batch_size=16, shuffle=False)\n",
    "\n"
   ]
  },
  {
   "cell_type": "code",
   "execution_count": null,
   "id": "673a8ac9-ebaf-4abd-a1da-a937ce6604fb",
   "metadata": {},
   "outputs": [],
   "source": [
    "import torch\n",
    "import torch.nn as nn\n",
    "from transformers import RobertaPreTrainedModel, RobertaModel\n",
    "\n",
    "class RobertaForCustomSequenceClassification(RobertaPreTrainedModel):\n",
    "    def __init__(self, config):\n",
    "        super().__init__(config)\n",
    "        self.num_labels = config.num_labels\n",
    "        \n",
    "        self.roberta = RobertaModel(config)\n",
    "\n",
    "        self.classifier = nn.Sequential(\n",
    "            nn.Linear(config.hidden_size, 128), \n",
    "            nn.Dropout(0.1),                   \n",
    "            nn.ReLU(),                        \n",
    "            nn.Linear(128, 64),              \n",
    "            nn.ReLU(),                        \n",
    "            nn.Linear(64, 1)                 \n",
    "        )\n",
    "        self.sigmoid = nn.Sigmoid()            \n",
    "        self.init_weights()\n",
    "\n",
    "    def forward(self, input_ids=None, attention_mask=None, labels=None):\n",
    "        outputs = self.roberta(input_ids=input_ids, attention_mask=attention_mask)\n",
    "        \n",
    "        sequence_output = outputs[0]\n",
    "        logits = self.classifier(sequence_output[:, 0, :])  \n",
    "        logits = self.sigmoid(logits)                       \n",
    "\n",
    "        loss = None\n",
    "        if labels is not None:\n",
    "            loss_fct = nn.BCEWithLogitsLoss()  \n",
    "            loss = loss_fct(logits.view(-1), labels.view(-1).float())\n",
    "\n",
    "        return {'loss': loss, 'logits': logits} if loss is not None else logits\n",
    "\n",
    "config = AutoConfig.from_pretrained(\"roberta-base\", num_labels=1)  # num_labels=1 for binary classification\n",
    "\n",
    "model = RobertaForCustomSequenceClassification(config)\n",
    "\n"
   ]
  },
  {
   "cell_type": "code",
   "execution_count": null,
   "id": "495ec337",
   "metadata": {},
   "outputs": [],
   "source": [
    "# Install one of these is enough\n",
    "# !pip install accelerate -U\n",
    "!pip install transformers[torch]"
   ]
  },
  {
   "cell_type": "code",
   "execution_count": null,
   "id": "cf886ce6-3175-4edf-a5c9-573c7589f913",
   "metadata": {
    "scrolled": true
   },
   "outputs": [],
   "source": [
    "# Updated TrainingArguments with potentially corrected paths (if the default ones were incorrect)\n",
    "training_args = TrainingArguments(\n",
    "    output_dir='./results',            # output directory\n",
    "    num_train_epochs=3,                # total number of training epochs\n",
    "    per_device_train_batch_size=16,    # batch size per device during training\n",
    "    per_device_eval_batch_size=64,     # batch size for evaluation\n",
    "    warmup_steps=500,                  # number of warmup steps for learning rate scheduler\n",
    "    weight_decay=0.01,                 # strength of weight decay\n",
    "    logging_dir='./logs',              # directory for storing logs\n",
    ")"
   ]
  },
  {
   "cell_type": "code",
   "execution_count": null,
   "id": "8e28262d-f0bf-4d9f-9251-c3f51d72d88f",
   "metadata": {},
   "outputs": [],
   "source": [
    "trainer = Trainer(\n",
    "    model=model,                         # the instantiated model\n",
    "    args=training_args,                  # training arguments\n",
    "    train_dataset=train_dataset,         # training dataset\n",
    "    eval_dataset=val_dataset,            # evaluation dataset\n",
    "    compute_metrics=lambda pred: {\"accuracy\": (pred.label_ids == pred.predictions.argmax(-1)).astype(float).mean()}\n",
    ")"
   ]
  },
  {
   "cell_type": "code",
   "execution_count": null,
   "id": "7d956d82-bc7b-4579-b47f-ea69fa70cb61",
   "metadata": {},
   "outputs": [],
   "source": [
    "trainer.train()"
   ]
  },
  {
   "cell_type": "code",
   "execution_count": null,
   "id": "608247e1-f0f6-43a4-b37d-59471929b2b5",
   "metadata": {},
   "outputs": [],
   "source": [
    "trainer.evaluate()"
   ]
  }
 ],
 "metadata": {
  "kernelspec": {
   "display_name": "Python 3 (ipykernel)",
   "language": "python",
   "name": "python3"
  },
  "language_info": {
   "codemirror_mode": {
    "name": "ipython",
    "version": 3
   },
   "file_extension": ".py",
   "mimetype": "text/x-python",
   "name": "python",
   "nbconvert_exporter": "python",
   "pygments_lexer": "ipython3",
   "version": "3.10.13"
  }
 },
 "nbformat": 4,
 "nbformat_minor": 5
}
